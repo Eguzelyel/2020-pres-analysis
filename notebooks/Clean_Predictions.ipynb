{
 "cells": [
  {
   "cell_type": "markdown",
   "metadata": {},
   "source": [
    "Notebook to be implemented in the web app. See candidate_models.ipynb for detailed models."
   ]
  },
  {
   "cell_type": "code",
   "execution_count": 2,
   "metadata": {},
   "outputs": [],
   "source": [
    "import pickle"
   ]
  },
  {
   "cell_type": "code",
   "execution_count": 7,
   "metadata": {
    "scrolled": true
   },
   "outputs": [],
   "source": [
    "with open('FeatureData/warren_corpus.pk', 'rb') as file:\n",
    "    warren_corpus = pickle.load(file)"
   ]
  },
  {
   "cell_type": "code",
   "execution_count": 10,
   "metadata": {},
   "outputs": [],
   "source": [
    "# Senti_score comes as the result of putting this tweet to NLU.\n",
    "\n",
    "def extract_features(tweet, senti_scores, warren_corpus):\n",
    "    \"\"\"Extracts individual tweets' features.\n",
    "        \n",
    "        Args:\n",
    "        - tweet: The entry to the API, String. \n",
    "        - senti_scores: The result of NLU\n",
    "        Returns:\n",
    "        - tweet_features: Values of features\n",
    "        - tweet_feature_names: Corresponding names\"\"\"\n",
    "    \n",
    "    tweet_feature_names = ['sadness','joy','fear','disgust','anger',\n",
    "                            'sentiment',\n",
    "                            'character'] + [i for i in warren_corpus]\n",
    "\n",
    "    # Feature\n",
    "    tweet_features = []\n",
    "    for j,k in senti_scores[tweet]['emotion']['document']['emotion'].items(): # Emotion\n",
    "        tweet_features.append(k)\n",
    "    tweet_features.append(senti_scores[tweet]['sentiment']['document']['score']) # Sentiment\n",
    "\n",
    "    tweet_features.append(senti_scores[tweet]['usage']['text_characters']/316) # Max character \n",
    "\n",
    "    # One-hot Encoded Features\n",
    "    text_relevance = dict({sent['text']:sent['relevance'] for sent in senti_scores[tweet]['keywords']})\n",
    "    tweet_onehot=[]\n",
    "    for keys in warren_corpus:\n",
    "        tweet_onehot.append(0 if keys not in text_relevance.keys() else text_relevance[keys])\n",
    "    tweet_features.extend(tweet_onehot)\n",
    "\n",
    "    return tweet_features, tweet_feature_names\n",
    "# Now you have yourself a tweet with its features."
   ]
  },
  {
   "cell_type": "code",
   "execution_count": 11,
   "metadata": {},
   "outputs": [],
   "source": [
    "from sklearn.linear_model import LogisticRegression\n",
    "# from sklearn.metrics import f1_score, precision_recall_fscore_support, auc, roc_auc_score"
   ]
  },
  {
   "cell_type": "code",
   "execution_count": 12,
   "metadata": {},
   "outputs": [],
   "source": [
    "with open('Predictions/warren_LR.pk', 'rb') as file:\n",
    "    warren_lr = pickle.load(file)"
   ]
  },
  {
   "cell_type": "code",
   "execution_count": 16,
   "metadata": {},
   "outputs": [
    {
     "name": "stderr",
     "output_type": "stream",
     "text": [
      "/Users/ekremguzelyel/anaconda/lib/python3.6/site-packages/sklearn/utils/validation.py:395: DeprecationWarning: Passing 1d arrays as data is deprecated in 0.17 and will raise ValueError in 0.19. Reshape your data either using X.reshape(-1, 1) if your data has a single feature or X.reshape(1, -1) if it contains a single sample.\n",
      "  DeprecationWarning)\n"
     ]
    },
    {
     "data": {
      "text/plain": [
       "array([-1])"
      ]
     },
     "execution_count": 16,
     "metadata": {},
     "output_type": "execute_result"
    }
   ],
   "source": [
    "# Put classifier (warren_lr) in to the function\n",
    "def warren_predict(tweet_features, warren_clf):\n",
    "    return warren_clf.predict(tweet_features)\n",
    "\n",
    "# Example\n",
    "warren_lr.predict([1]*5719)"
   ]
  },
  {
   "cell_type": "code",
   "execution_count": null,
   "metadata": {},
   "outputs": [],
   "source": []
  }
 ],
 "metadata": {
  "kernelspec": {
   "display_name": "Python 3",
   "language": "python",
   "name": "python3"
  },
  "language_info": {
   "codemirror_mode": {
    "name": "ipython",
    "version": 3
   },
   "file_extension": ".py",
   "mimetype": "text/x-python",
   "name": "python",
   "nbconvert_exporter": "python",
   "pygments_lexer": "ipython3",
   "version": "3.6.5"
  }
 },
 "nbformat": 4,
 "nbformat_minor": 2
}
